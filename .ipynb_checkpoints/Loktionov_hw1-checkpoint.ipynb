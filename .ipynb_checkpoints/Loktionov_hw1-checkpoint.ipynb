{
 "cells": [
  {
   "cell_type": "code",
   "execution_count": 2,
   "id": "4f832f61",
   "metadata": {},
   "outputs": [
    {
     "name": "stdout",
     "output_type": "stream",
     "text": [
      "Solution:\n",
      " x = 10000.0, y = 25000.0, z = 15000.0\n"
     ]
    },
    {
     "data": {
      "text/plain": [
       "array([[10000.],\n",
       "       [25000.],\n",
       "       [15000.]])"
      ]
     },
     "execution_count": 2,
     "metadata": {},
     "output_type": "execute_result"
    }
   ],
   "source": [
    "###1\n",
    "import numpy as np\n",
    "a = np.matrix('1 1 1; 0.05 0.07 0; 0.05 0 0.06')\n",
    "b = np.matrix('50000; 2250; 1400')\n",
    "def solution_kram(a,b):\n",
    "    det_a = np.linalg.det(a)\n",
    "    if(det_a!=0):\n",
    "        a1 = np.matrix(a)\n",
    "        a2 = np.matrix(a)\n",
    "        a3 = np.matrix(a)\n",
    "        a1[:, 0] = b\n",
    "        a2[:, 1] = b\n",
    "        a3[:, 2] = b\n",
    "        x = np.linalg.det(a1)/det_a\n",
    "        y = np.linalg.det(a2)/det_a\n",
    "        z = np.linalg.det(a3)/det_a\n",
    "        print(f\"Solution:\\n x = {x.round(3)}, y = {y.round(3)}, z = {z.round(3)}\")\n",
    "    else:\n",
    "        print(\"No solution found\")\n",
    "solution_kram(a,b)\n",
    "np.linalg.solve(a,b).round(3)\n",
    "        \n",
    "    \n",
    "    "
   ]
  },
  {
   "cell_type": "code",
   "execution_count": 3,
   "id": "a8f56677",
   "metadata": {},
   "outputs": [
    {
     "name": "stdout",
     "output_type": "stream",
     "text": [
      "Solution:\n",
      " x = 480.0, y = 620.0, z = 400.0\n"
     ]
    },
    {
     "data": {
      "text/plain": [
       "array([[480.],\n",
       "       [620.],\n",
       "       [400.]])"
      ]
     },
     "execution_count": 3,
     "metadata": {},
     "output_type": "execute_result"
    }
   ],
   "source": [
    "###2\n",
    "# X + 140 = Y\n",
    "# X - 80 = Z\n",
    "# X + Y + Z = 1500\n",
    "\n",
    "# X + Y + Z = 1500\n",
    "# X + 0Y - Z = 80\n",
    "# X - Y + 0Z = -140\n",
    "\n",
    "\n",
    "a = np.matrix('1 1 1; 1 0 -1; 1 -1 0')\n",
    "b = np.matrix('1500; 80; -140')\n",
    "def solution_kram(a,b):\n",
    "    det_a = np.linalg.det(a)\n",
    "    if(det_a!=0):\n",
    "        a1 = np.matrix(a)\n",
    "        a2 = np.matrix(a)\n",
    "        a3 = np.matrix(a)\n",
    "        a1[:, 0] = b\n",
    "        a2[:, 1] = b\n",
    "        a3[:, 2] = b\n",
    "        x = np.linalg.det(a1)/det_a\n",
    "        y = np.linalg.det(a2)/det_a\n",
    "        z = np.linalg.det(a3)/det_a\n",
    "        print(f\"Solution:\\n x = {x.round(3)}, y = {y.round(3)}, z = {z.round(3)}\")\n",
    "    else:\n",
    "              print(\"No solution found\")\n",
    "solution_kram(a,b)\n",
    "np.linalg.solve(a,b).round(3)\n",
    "        "
   ]
  },
  {
   "cell_type": "code",
   "execution_count": 4,
   "id": "e9420bbf",
   "metadata": {},
   "outputs": [
    {
     "name": "stdout",
     "output_type": "stream",
     "text": [
      "Solution:\n",
      " x = 12.0, y = 0.5, z = 4.0\n"
     ]
    },
    {
     "data": {
      "text/plain": [
       "array([[12.5],\n",
       "       [ 0.5],\n",
       "       [ 4. ]])"
      ]
     },
     "execution_count": 4,
     "metadata": {},
     "output_type": "execute_result"
    }
   ],
   "source": [
    "##3\n",
    "a = np.matrix([[3,0,3],[6,1/4,0],[1,1/3,1]])\n",
    "b = np.matrix([[1],[1],[1]])\n",
    "def solution_kram(a,b):\n",
    "    det_a = np.linalg.det(a)\n",
    "    if(det_a!=0):\n",
    "        a1 = np.matrix(a)\n",
    "        a2 = np.matrix(a)\n",
    "        a3 = np.matrix(a)\n",
    "        a1[:, 0] = b\n",
    "        a2[:, 1] = b\n",
    "        a3[:, 2] = b\n",
    "        x = (np.linalg.det(a1)/det_a)**(-1)\n",
    "        y = (np.linalg.det(a2)/det_a)**(-1)\n",
    "        z = (np.linalg.det(a3)/det_a)**(-1)\n",
    "        print(f\"Solution:\\n x = {x.round(2)}, y = {y.round(3)}, z = {z.round(3)}\")\n",
    "    else:\n",
    "              print(\"No solution found\")\n",
    "solution_kram(a,b)\n",
    "np.linalg.solve(a,b).round(2)**(-1)"
   ]
  },
  {
   "cell_type": "code",
   "execution_count": 5,
   "id": "1dfc4037",
   "metadata": {},
   "outputs": [
    {
     "name": "stdout",
     "output_type": "stream",
     "text": [
      "No solution found\n"
     ]
    },
    {
     "ename": "LinAlgError",
     "evalue": "Singular matrix",
     "output_type": "error",
     "traceback": [
      "\u001b[1;31m---------------------------------------------------------------------------\u001b[0m",
      "\u001b[1;31mLinAlgError\u001b[0m                               Traceback (most recent call last)",
      "Cell \u001b[1;32mIn[5], line 21\u001b[0m\n\u001b[0;32m     19\u001b[0m               \u001b[38;5;28mprint\u001b[39m(\u001b[38;5;124m\"\u001b[39m\u001b[38;5;124mNo solution found\u001b[39m\u001b[38;5;124m\"\u001b[39m)\n\u001b[0;32m     20\u001b[0m solution_kram(a,b)\n\u001b[1;32m---> 21\u001b[0m \u001b[43mnp\u001b[49m\u001b[38;5;241;43m.\u001b[39;49m\u001b[43mlinalg\u001b[49m\u001b[38;5;241;43m.\u001b[39;49m\u001b[43msolve\u001b[49m\u001b[43m(\u001b[49m\u001b[43ma\u001b[49m\u001b[43m,\u001b[49m\u001b[43mb\u001b[49m\u001b[43m)\u001b[49m\u001b[38;5;241m.\u001b[39mround(\u001b[38;5;241m3\u001b[39m)\n",
      "File \u001b[1;32m<__array_function__ internals>:200\u001b[0m, in \u001b[0;36msolve\u001b[1;34m(*args, **kwargs)\u001b[0m\n",
      "File \u001b[1;32m~\\AppData\\Local\\Programs\\Python\\Python310\\lib\\site-packages\\numpy\\linalg\\linalg.py:386\u001b[0m, in \u001b[0;36msolve\u001b[1;34m(a, b)\u001b[0m\n\u001b[0;32m    384\u001b[0m signature \u001b[38;5;241m=\u001b[39m \u001b[38;5;124m'\u001b[39m\u001b[38;5;124mDD->D\u001b[39m\u001b[38;5;124m'\u001b[39m \u001b[38;5;28;01mif\u001b[39;00m isComplexType(t) \u001b[38;5;28;01melse\u001b[39;00m \u001b[38;5;124m'\u001b[39m\u001b[38;5;124mdd->d\u001b[39m\u001b[38;5;124m'\u001b[39m\n\u001b[0;32m    385\u001b[0m extobj \u001b[38;5;241m=\u001b[39m get_linalg_error_extobj(_raise_linalgerror_singular)\n\u001b[1;32m--> 386\u001b[0m r \u001b[38;5;241m=\u001b[39m \u001b[43mgufunc\u001b[49m\u001b[43m(\u001b[49m\u001b[43ma\u001b[49m\u001b[43m,\u001b[49m\u001b[43m \u001b[49m\u001b[43mb\u001b[49m\u001b[43m,\u001b[49m\u001b[43m \u001b[49m\u001b[43msignature\u001b[49m\u001b[38;5;241;43m=\u001b[39;49m\u001b[43msignature\u001b[49m\u001b[43m,\u001b[49m\u001b[43m \u001b[49m\u001b[43mextobj\u001b[49m\u001b[38;5;241;43m=\u001b[39;49m\u001b[43mextobj\u001b[49m\u001b[43m)\u001b[49m\n\u001b[0;32m    388\u001b[0m \u001b[38;5;28;01mreturn\u001b[39;00m wrap(r\u001b[38;5;241m.\u001b[39mastype(result_t, copy\u001b[38;5;241m=\u001b[39m\u001b[38;5;28;01mFalse\u001b[39;00m))\n",
      "File \u001b[1;32m~\\AppData\\Local\\Programs\\Python\\Python310\\lib\\site-packages\\numpy\\linalg\\linalg.py:89\u001b[0m, in \u001b[0;36m_raise_linalgerror_singular\u001b[1;34m(err, flag)\u001b[0m\n\u001b[0;32m     88\u001b[0m \u001b[38;5;28;01mdef\u001b[39;00m \u001b[38;5;21m_raise_linalgerror_singular\u001b[39m(err, flag):\n\u001b[1;32m---> 89\u001b[0m     \u001b[38;5;28;01mraise\u001b[39;00m LinAlgError(\u001b[38;5;124m\"\u001b[39m\u001b[38;5;124mSingular matrix\u001b[39m\u001b[38;5;124m\"\u001b[39m)\n",
      "\u001b[1;31mLinAlgError\u001b[0m: Singular matrix"
     ]
    }
   ],
   "source": [
    "##4\n",
    "\n",
    "a = np.matrix([[1,1,0],[9,3,0],[1,-1,0]])\n",
    "b = np.matrix([[12],[54],[2]])\n",
    "def solution_kram(a,b):\n",
    "    det_a = np.linalg.det(a)\n",
    "    if(det_a!=0):\n",
    "        a1 = np.matrix(a)\n",
    "        a2 = np.matrix(a)\n",
    "        a3 = np.matrix(a)\n",
    "        a1[:, 0] = b\n",
    "        a2[:, 1] = b\n",
    "        a3[:, 2] = b\n",
    "        x = np.linalg.det(a1)/det_a\n",
    "        y = np.linalg.det(a2)/det_a\n",
    "        z = np.linalg.det(a3)/det_a\n",
    "        print(f\"Solution:\\n x = {x.round(3)}, y = {y.round(3)}, z = {z.round(3)}\")\n",
    "    else:\n",
    "              print(\"No solution found\")\n",
    "solution_kram(a,b)\n",
    "np.linalg.solve(a,b).round(3)"
   ]
  },
  {
   "cell_type": "code",
   "execution_count": 17,
   "id": "a828b66c",
   "metadata": {},
   "outputs": [
    {
     "name": "stdout",
     "output_type": "stream",
     "text": [
      "[[1], [1], [1]]\n",
      "[[3.         0.         3.        ]\n",
      " [6.         0.25       0.        ]\n",
      " [1.         0.33333333 1.        ]]\n",
      "[[3.         0.         3.        ]\n",
      " [6.         0.25       0.        ]\n",
      " [1.         0.33333333 1.        ]]\n",
      "[[3.         0.         3.        ]\n",
      " [6.         0.25       0.        ]\n",
      " [1.         0.33333333 1.        ]]\n",
      "[11.999999999999998, 0.5, 3.999999999999999]\n"
     ]
    },
    {
     "data": {
      "text/plain": [
       "[11.999999999999998, 0.5, 3.999999999999999]"
      ]
     },
     "execution_count": 17,
     "metadata": {},
     "output_type": "execute_result"
    }
   ],
   "source": [
    "##5\n",
    "## Input type - tuple\n",
    "def get_polynom(*args):\n",
    "    a = []\n",
    "    b = []\n",
    "    result = []\n",
    "    for i in args:\n",
    "        a.append(list(i))\n",
    "    for i in a[-1]:\n",
    "        l = []\n",
    "        l.append(i)\n",
    "        b.append(l)\n",
    "    print(b)\n",
    "    a.pop()\n",
    "    a = np.matrix(a)\n",
    "    b = np.matrix(b)\n",
    "    det_a = np.linalg.det(a)\n",
    "    if(det_a!=0):\n",
    "        for i in range(0,len(a)):\n",
    "            a1 = np.matrix(a)\n",
    "            print(a1)\n",
    "            a1[:, i] = b\n",
    "            result.append(((np.linalg.det(a1)/det_a))\n",
    "        print(result)\n",
    "        return result\n",
    "    else:\n",
    "            print(\"No solution found\")\n",
    "            return\n",
    "# get_polynom((3,0,3),(6,1/4,0),(1,1/3,1),(1,1,1))\n",
    "            \n",
    "        \n",
    "    "
   ]
  },
  {
   "cell_type": "code",
   "execution_count": null,
   "id": "ea26cf1e",
   "metadata": {},
   "outputs": [],
   "source": []
  }
 ],
 "metadata": {
  "kernelspec": {
   "display_name": "Python 3 (ipykernel)",
   "language": "python",
   "name": "python3"
  },
  "language_info": {
   "codemirror_mode": {
    "name": "ipython",
    "version": 3
   },
   "file_extension": ".py",
   "mimetype": "text/x-python",
   "name": "python",
   "nbconvert_exporter": "python",
   "pygments_lexer": "ipython3",
   "version": "3.10.9"
  }
 },
 "nbformat": 4,
 "nbformat_minor": 5
}
